{
 "cells": [
  {
   "cell_type": "markdown",
   "metadata": {},
   "source": [
    "# Welcome to Lab Session 3 - Derek Thomas - 07Oct2017"
   ]
  },
  {
   "cell_type": "markdown",
   "metadata": {},
   "source": [
    "## Define the environment for the Dataframe"
   ]
  },
  {
   "cell_type": "code",
   "execution_count": 3,
   "metadata": {
    "ExecuteTime": {
     "end_time": "2017-10-03T03:44:12.729222Z",
     "start_time": "2017-10-03T03:44:12.720705Z"
    }
   },
   "outputs": [],
   "source": [
    "import pandas as pd\n",
    "import numpy as np\n",
    "#import pandas_datareader as pdr\n",
    "#from pandas_datareader import data, wb\n",
    "import urllib3\n",
    "http = urllib3.PoolManager()\n",
    "import string\n",
    "import re\n",
    "import json\n",
    "from collections import OrderedDict\n",
    "import warnings\n",
    "warnings.filterwarnings('ignore')"
   ]
  },
  {
   "cell_type": "markdown",
   "metadata": {
    "ExecuteTime": {
     "end_time": "2017-09-23T13:35:42.618725Z",
     "start_time": "2017-09-23T13:35:42.615218Z"
    }
   },
   "source": [
    "## Import the Data Breaches Dataframe and parse relevant columns"
   ]
  },
  {
   "cell_type": "code",
   "execution_count": 4,
   "metadata": {
    "ExecuteTime": {
     "end_time": "2017-10-03T03:44:15.705468Z",
     "start_time": "2017-10-03T03:44:15.480153Z"
    },
    "collapsed": true
   },
   "outputs": [],
   "source": [
    "df = pd.read_excel('Information is Beautiful_ Data Breaches (public).xlsx', header=1, sheetname='2017 update',parse_cols=('A,D:G,J'))"
   ]
  },
  {
   "cell_type": "code",
   "execution_count": 5,
   "metadata": {
    "ExecuteTime": {
     "end_time": "2017-10-03T03:44:16.479169Z",
     "start_time": "2017-10-03T03:44:16.451157Z"
    }
   },
   "outputs": [
    {
     "data": {
      "text/html": [
       "<div>\n",
       "<style>\n",
       "    .dataframe thead tr:only-child th {\n",
       "        text-align: right;\n",
       "    }\n",
       "\n",
       "    .dataframe thead th {\n",
       "        text-align: left;\n",
       "    }\n",
       "\n",
       "    .dataframe tbody tr th {\n",
       "        vertical-align: top;\n",
       "    }\n",
       "</style>\n",
       "<table border=\"1\" class=\"dataframe\">\n",
       "  <thead>\n",
       "    <tr style=\"text-align: right;\">\n",
       "      <th></th>\n",
       "      <th>Entity</th>\n",
       "      <th>YEAR</th>\n",
       "      <th>records lost</th>\n",
       "      <th>ORGANISATION</th>\n",
       "      <th>METHOD OF LEAK</th>\n",
       "      <th>DATA SENSITIVITY</th>\n",
       "    </tr>\n",
       "  </thead>\n",
       "  <tbody>\n",
       "    <tr>\n",
       "      <th>0</th>\n",
       "      <td>NaN</td>\n",
       "      <td>years are encoded (0=2004, 8 = 2012, 9 = 2013,...</td>\n",
       "      <td>(use 3m, 4m, 5m or 10m to approximate unknown ...</td>\n",
       "      <td>NaN</td>\n",
       "      <td>NaN</td>\n",
       "      <td>1. Just email address/Online information 20 SS...</td>\n",
       "    </tr>\n",
       "    <tr>\n",
       "      <th>1</th>\n",
       "      <td>AOL</td>\n",
       "      <td>0</td>\n",
       "      <td>92000000</td>\n",
       "      <td>web</td>\n",
       "      <td>inside job</td>\n",
       "      <td>1</td>\n",
       "    </tr>\n",
       "    <tr>\n",
       "      <th>2</th>\n",
       "      <td>Automatic Data Processing</td>\n",
       "      <td>1</td>\n",
       "      <td>125000</td>\n",
       "      <td>financial</td>\n",
       "      <td>poor security</td>\n",
       "      <td>20</td>\n",
       "    </tr>\n",
       "    <tr>\n",
       "      <th>3</th>\n",
       "      <td>Ameritrade Inc.</td>\n",
       "      <td>1</td>\n",
       "      <td>200000</td>\n",
       "      <td>financial</td>\n",
       "      <td>lost / stolen device</td>\n",
       "      <td>20</td>\n",
       "    </tr>\n",
       "  </tbody>\n",
       "</table>\n",
       "</div>"
      ],
      "text/plain": [
       "                      Entity  \\\n",
       "0                        NaN   \n",
       "1                        AOL   \n",
       "2  Automatic Data Processing   \n",
       "3            Ameritrade Inc.   \n",
       "\n",
       "                                                YEAR  \\\n",
       "0  years are encoded (0=2004, 8 = 2012, 9 = 2013,...   \n",
       "1                                                  0   \n",
       "2                                                  1   \n",
       "3                                                  1   \n",
       "\n",
       "                                        records lost ORGANISATION  \\\n",
       "0  (use 3m, 4m, 5m or 10m to approximate unknown ...          NaN   \n",
       "1                                           92000000          web   \n",
       "2                                             125000    financial   \n",
       "3                                             200000    financial   \n",
       "\n",
       "         METHOD OF LEAK                                   DATA SENSITIVITY  \n",
       "0                   NaN  1. Just email address/Online information 20 SS...  \n",
       "1            inside job                                                  1  \n",
       "2         poor security                                                 20  \n",
       "3  lost / stolen device                                                 20  "
      ]
     },
     "execution_count": 5,
     "metadata": {},
     "output_type": "execute_result"
    }
   ],
   "source": [
    "df.head(4)"
   ]
  },
  {
   "cell_type": "markdown",
   "metadata": {},
   "source": [
    "## Modify column names"
   ]
  },
  {
   "cell_type": "code",
   "execution_count": 6,
   "metadata": {
    "ExecuteTime": {
     "end_time": "2017-10-03T03:44:17.396957Z",
     "start_time": "2017-10-03T03:44:17.366975Z"
    }
   },
   "outputs": [
    {
     "data": {
      "text/html": [
       "<div>\n",
       "<style>\n",
       "    .dataframe thead tr:only-child th {\n",
       "        text-align: right;\n",
       "    }\n",
       "\n",
       "    .dataframe thead th {\n",
       "        text-align: left;\n",
       "    }\n",
       "\n",
       "    .dataframe tbody tr th {\n",
       "        vertical-align: top;\n",
       "    }\n",
       "</style>\n",
       "<table border=\"1\" class=\"dataframe\">\n",
       "  <thead>\n",
       "    <tr style=\"text-align: right;\">\n",
       "      <th></th>\n",
       "      <th>Entity</th>\n",
       "      <th>Year</th>\n",
       "      <th>Records Lost</th>\n",
       "      <th>Organization</th>\n",
       "      <th>Method of Leak</th>\n",
       "      <th>Sensitivity</th>\n",
       "    </tr>\n",
       "  </thead>\n",
       "  <tbody>\n",
       "    <tr>\n",
       "      <th>0</th>\n",
       "      <td>NaN</td>\n",
       "      <td>years are encoded (0=2004, 8 = 2012, 9 = 2013,...</td>\n",
       "      <td>(use 3m, 4m, 5m or 10m to approximate unknown ...</td>\n",
       "      <td>NaN</td>\n",
       "      <td>NaN</td>\n",
       "      <td>1. Just email address/Online information 20 SS...</td>\n",
       "    </tr>\n",
       "    <tr>\n",
       "      <th>1</th>\n",
       "      <td>AOL</td>\n",
       "      <td>0</td>\n",
       "      <td>92000000</td>\n",
       "      <td>web</td>\n",
       "      <td>inside job</td>\n",
       "      <td>1</td>\n",
       "    </tr>\n",
       "    <tr>\n",
       "      <th>2</th>\n",
       "      <td>Automatic Data Processing</td>\n",
       "      <td>1</td>\n",
       "      <td>125000</td>\n",
       "      <td>financial</td>\n",
       "      <td>poor security</td>\n",
       "      <td>20</td>\n",
       "    </tr>\n",
       "    <tr>\n",
       "      <th>3</th>\n",
       "      <td>Ameritrade Inc.</td>\n",
       "      <td>1</td>\n",
       "      <td>200000</td>\n",
       "      <td>financial</td>\n",
       "      <td>lost / stolen device</td>\n",
       "      <td>20</td>\n",
       "    </tr>\n",
       "  </tbody>\n",
       "</table>\n",
       "</div>"
      ],
      "text/plain": [
       "                      Entity  \\\n",
       "0                        NaN   \n",
       "1                        AOL   \n",
       "2  Automatic Data Processing   \n",
       "3            Ameritrade Inc.   \n",
       "\n",
       "                                                Year  \\\n",
       "0  years are encoded (0=2004, 8 = 2012, 9 = 2013,...   \n",
       "1                                                  0   \n",
       "2                                                  1   \n",
       "3                                                  1   \n",
       "\n",
       "                                        Records Lost Organization  \\\n",
       "0  (use 3m, 4m, 5m or 10m to approximate unknown ...          NaN   \n",
       "1                                           92000000          web   \n",
       "2                                             125000    financial   \n",
       "3                                             200000    financial   \n",
       "\n",
       "         Method of Leak                                        Sensitivity  \n",
       "0                   NaN  1. Just email address/Online information 20 SS...  \n",
       "1            inside job                                                  1  \n",
       "2         poor security                                                 20  \n",
       "3  lost / stolen device                                                 20  "
      ]
     },
     "execution_count": 6,
     "metadata": {},
     "output_type": "execute_result"
    }
   ],
   "source": [
    "df.columns=['Entity',\\\n",
    "            'Year',\\\n",
    "            'Records Lost',\\\n",
    "            'Organization',\\\n",
    "            'Method of Leak',\\\n",
    "            'Sensitivity']\n",
    "df.head(4)"
   ]
  },
  {
   "cell_type": "markdown",
   "metadata": {},
   "source": [
    "## Delete irrelevant narrartive row"
   ]
  },
  {
   "cell_type": "code",
   "execution_count": 7,
   "metadata": {
    "ExecuteTime": {
     "end_time": "2017-10-03T03:44:18.171016Z",
     "start_time": "2017-10-03T03:44:18.143298Z"
    },
    "scrolled": false
   },
   "outputs": [
    {
     "data": {
      "text/html": [
       "<div>\n",
       "<style>\n",
       "    .dataframe thead tr:only-child th {\n",
       "        text-align: right;\n",
       "    }\n",
       "\n",
       "    .dataframe thead th {\n",
       "        text-align: left;\n",
       "    }\n",
       "\n",
       "    .dataframe tbody tr th {\n",
       "        vertical-align: top;\n",
       "    }\n",
       "</style>\n",
       "<table border=\"1\" class=\"dataframe\">\n",
       "  <thead>\n",
       "    <tr style=\"text-align: right;\">\n",
       "      <th></th>\n",
       "      <th>Entity</th>\n",
       "      <th>Year</th>\n",
       "      <th>Records Lost</th>\n",
       "      <th>Organization</th>\n",
       "      <th>Method of Leak</th>\n",
       "      <th>Sensitivity</th>\n",
       "    </tr>\n",
       "  </thead>\n",
       "  <tbody>\n",
       "    <tr>\n",
       "      <th>1</th>\n",
       "      <td>AOL</td>\n",
       "      <td>0</td>\n",
       "      <td>92000000</td>\n",
       "      <td>web</td>\n",
       "      <td>inside job</td>\n",
       "      <td>1</td>\n",
       "    </tr>\n",
       "    <tr>\n",
       "      <th>2</th>\n",
       "      <td>Automatic Data Processing</td>\n",
       "      <td>1</td>\n",
       "      <td>125000</td>\n",
       "      <td>financial</td>\n",
       "      <td>poor security</td>\n",
       "      <td>20</td>\n",
       "    </tr>\n",
       "    <tr>\n",
       "      <th>3</th>\n",
       "      <td>Ameritrade Inc.</td>\n",
       "      <td>1</td>\n",
       "      <td>200000</td>\n",
       "      <td>financial</td>\n",
       "      <td>lost / stolen device</td>\n",
       "      <td>20</td>\n",
       "    </tr>\n",
       "    <tr>\n",
       "      <th>4</th>\n",
       "      <td>Citigroup</td>\n",
       "      <td>1</td>\n",
       "      <td>3900000</td>\n",
       "      <td>financial</td>\n",
       "      <td>lost / stolen device</td>\n",
       "      <td>300</td>\n",
       "    </tr>\n",
       "  </tbody>\n",
       "</table>\n",
       "</div>"
      ],
      "text/plain": [
       "                      Entity Year Records Lost Organization  \\\n",
       "1                        AOL    0     92000000          web   \n",
       "2  Automatic Data Processing    1       125000    financial   \n",
       "3            Ameritrade Inc.    1       200000    financial   \n",
       "4                  Citigroup    1      3900000    financial   \n",
       "\n",
       "         Method of Leak Sensitivity  \n",
       "1            inside job           1  \n",
       "2         poor security          20  \n",
       "3  lost / stolen device          20  \n",
       "4  lost / stolen device         300  "
      ]
     },
     "execution_count": 7,
     "metadata": {},
     "output_type": "execute_result"
    }
   ],
   "source": [
    "df = df.drop(df.index[0])\n",
    "df.head(4)"
   ]
  },
  {
   "cell_type": "markdown",
   "metadata": {},
   "source": [
    "## Convert Year index to Calendar Year value"
   ]
  },
  {
   "cell_type": "code",
   "execution_count": 8,
   "metadata": {
    "ExecuteTime": {
     "end_time": "2017-10-03T03:44:19.021927Z",
     "start_time": "2017-10-03T03:44:18.987266Z"
    }
   },
   "outputs": [
    {
     "data": {
      "text/html": [
       "<div>\n",
       "<style>\n",
       "    .dataframe thead tr:only-child th {\n",
       "        text-align: right;\n",
       "    }\n",
       "\n",
       "    .dataframe thead th {\n",
       "        text-align: left;\n",
       "    }\n",
       "\n",
       "    .dataframe tbody tr th {\n",
       "        vertical-align: top;\n",
       "    }\n",
       "</style>\n",
       "<table border=\"1\" class=\"dataframe\">\n",
       "  <thead>\n",
       "    <tr style=\"text-align: right;\">\n",
       "      <th></th>\n",
       "      <th>Entity</th>\n",
       "      <th>Year</th>\n",
       "      <th>Records Lost</th>\n",
       "      <th>Organization</th>\n",
       "      <th>Method of Leak</th>\n",
       "      <th>Sensitivity</th>\n",
       "    </tr>\n",
       "  </thead>\n",
       "  <tbody>\n",
       "    <tr>\n",
       "      <th>1</th>\n",
       "      <td>AOL</td>\n",
       "      <td>2004</td>\n",
       "      <td>92000000</td>\n",
       "      <td>web</td>\n",
       "      <td>inside job</td>\n",
       "      <td>1</td>\n",
       "    </tr>\n",
       "    <tr>\n",
       "      <th>2</th>\n",
       "      <td>Automatic Data Processing</td>\n",
       "      <td>2005</td>\n",
       "      <td>125000</td>\n",
       "      <td>financial</td>\n",
       "      <td>poor security</td>\n",
       "      <td>20</td>\n",
       "    </tr>\n",
       "    <tr>\n",
       "      <th>3</th>\n",
       "      <td>Ameritrade Inc.</td>\n",
       "      <td>2005</td>\n",
       "      <td>200000</td>\n",
       "      <td>financial</td>\n",
       "      <td>lost / stolen device</td>\n",
       "      <td>20</td>\n",
       "    </tr>\n",
       "    <tr>\n",
       "      <th>4</th>\n",
       "      <td>Citigroup</td>\n",
       "      <td>2005</td>\n",
       "      <td>3900000</td>\n",
       "      <td>financial</td>\n",
       "      <td>lost / stolen device</td>\n",
       "      <td>300</td>\n",
       "    </tr>\n",
       "  </tbody>\n",
       "</table>\n",
       "</div>"
      ],
      "text/plain": [
       "                      Entity  Year Records Lost Organization  \\\n",
       "1                        AOL  2004     92000000          web   \n",
       "2  Automatic Data Processing  2005       125000    financial   \n",
       "3            Ameritrade Inc.  2005       200000    financial   \n",
       "4                  Citigroup  2005      3900000    financial   \n",
       "\n",
       "         Method of Leak Sensitivity  \n",
       "1            inside job           1  \n",
       "2         poor security          20  \n",
       "3  lost / stolen device          20  \n",
       "4  lost / stolen device         300  "
      ]
     },
     "execution_count": 8,
     "metadata": {},
     "output_type": "execute_result"
    }
   ],
   "source": [
    "def ConvertYear(x):\n",
    "    if (x != '14'):\n",
    "        return str((int(x) + 2004))\n",
    "    else:\n",
    "        return ('2017')\n",
    "df['Year'] = df.Year.apply(ConvertYear)\n",
    "df.head(4)"
   ]
  },
  {
   "cell_type": "markdown",
   "metadata": {},
   "source": [
    "## Convert all \"Organization\" descriptions to Captialized case"
   ]
  },
  {
   "cell_type": "code",
   "execution_count": 9,
   "metadata": {
    "ExecuteTime": {
     "end_time": "2017-10-03T03:44:21.400129Z",
     "start_time": "2017-10-03T03:44:21.375022Z"
    },
    "scrolled": true
   },
   "outputs": [
    {
     "data": {
      "text/html": [
       "<div>\n",
       "<style>\n",
       "    .dataframe thead tr:only-child th {\n",
       "        text-align: right;\n",
       "    }\n",
       "\n",
       "    .dataframe thead th {\n",
       "        text-align: left;\n",
       "    }\n",
       "\n",
       "    .dataframe tbody tr th {\n",
       "        vertical-align: top;\n",
       "    }\n",
       "</style>\n",
       "<table border=\"1\" class=\"dataframe\">\n",
       "  <thead>\n",
       "    <tr style=\"text-align: right;\">\n",
       "      <th></th>\n",
       "      <th>Entity</th>\n",
       "      <th>Year</th>\n",
       "      <th>Records Lost</th>\n",
       "      <th>Organization</th>\n",
       "      <th>Method of Leak</th>\n",
       "      <th>Sensitivity</th>\n",
       "    </tr>\n",
       "  </thead>\n",
       "  <tbody>\n",
       "    <tr>\n",
       "      <th>1</th>\n",
       "      <td>AOL</td>\n",
       "      <td>2004</td>\n",
       "      <td>92000000</td>\n",
       "      <td>Web</td>\n",
       "      <td>inside job</td>\n",
       "      <td>1</td>\n",
       "    </tr>\n",
       "    <tr>\n",
       "      <th>2</th>\n",
       "      <td>Automatic Data Processing</td>\n",
       "      <td>2005</td>\n",
       "      <td>125000</td>\n",
       "      <td>Financial</td>\n",
       "      <td>poor security</td>\n",
       "      <td>20</td>\n",
       "    </tr>\n",
       "    <tr>\n",
       "      <th>3</th>\n",
       "      <td>Ameritrade Inc.</td>\n",
       "      <td>2005</td>\n",
       "      <td>200000</td>\n",
       "      <td>Financial</td>\n",
       "      <td>lost / stolen device</td>\n",
       "      <td>20</td>\n",
       "    </tr>\n",
       "    <tr>\n",
       "      <th>4</th>\n",
       "      <td>Citigroup</td>\n",
       "      <td>2005</td>\n",
       "      <td>3900000</td>\n",
       "      <td>Financial</td>\n",
       "      <td>lost / stolen device</td>\n",
       "      <td>300</td>\n",
       "    </tr>\n",
       "  </tbody>\n",
       "</table>\n",
       "</div>"
      ],
      "text/plain": [
       "                      Entity  Year Records Lost Organization  \\\n",
       "1                        AOL  2004     92000000          Web   \n",
       "2  Automatic Data Processing  2005       125000    Financial   \n",
       "3            Ameritrade Inc.  2005       200000    Financial   \n",
       "4                  Citigroup  2005      3900000    Financial   \n",
       "\n",
       "         Method of Leak Sensitivity  \n",
       "1            inside job           1  \n",
       "2         poor security          20  \n",
       "3  lost / stolen device          20  \n",
       "4  lost / stolen device         300  "
      ]
     },
     "execution_count": 9,
     "metadata": {},
     "output_type": "execute_result"
    }
   ],
   "source": [
    "df['Organization'] = df['Organization'].str.capitalize()\n",
    "df.head(4)"
   ]
  },
  {
   "cell_type": "markdown",
   "metadata": {},
   "source": [
    "##  Convert all \"Methods of Leak\" descriptions to Captialized case"
   ]
  },
  {
   "cell_type": "code",
   "execution_count": 10,
   "metadata": {
    "ExecuteTime": {
     "end_time": "2017-10-03T03:44:22.298300Z",
     "start_time": "2017-10-03T03:44:22.253041Z"
    }
   },
   "outputs": [
    {
     "data": {
      "text/html": [
       "<div>\n",
       "<style>\n",
       "    .dataframe thead tr:only-child th {\n",
       "        text-align: right;\n",
       "    }\n",
       "\n",
       "    .dataframe thead th {\n",
       "        text-align: left;\n",
       "    }\n",
       "\n",
       "    .dataframe tbody tr th {\n",
       "        vertical-align: top;\n",
       "    }\n",
       "</style>\n",
       "<table border=\"1\" class=\"dataframe\">\n",
       "  <thead>\n",
       "    <tr style=\"text-align: right;\">\n",
       "      <th></th>\n",
       "      <th>Entity</th>\n",
       "      <th>Year</th>\n",
       "      <th>Records Lost</th>\n",
       "      <th>Organization</th>\n",
       "      <th>Method of Leak</th>\n",
       "      <th>Sensitivity</th>\n",
       "    </tr>\n",
       "  </thead>\n",
       "  <tbody>\n",
       "    <tr>\n",
       "      <th>1</th>\n",
       "      <td>AOL</td>\n",
       "      <td>2004</td>\n",
       "      <td>92000000</td>\n",
       "      <td>Web</td>\n",
       "      <td>Inside job</td>\n",
       "      <td>1</td>\n",
       "    </tr>\n",
       "    <tr>\n",
       "      <th>2</th>\n",
       "      <td>Automatic Data Processing</td>\n",
       "      <td>2005</td>\n",
       "      <td>125000</td>\n",
       "      <td>Financial</td>\n",
       "      <td>Poor security</td>\n",
       "      <td>20</td>\n",
       "    </tr>\n",
       "    <tr>\n",
       "      <th>3</th>\n",
       "      <td>Ameritrade Inc.</td>\n",
       "      <td>2005</td>\n",
       "      <td>200000</td>\n",
       "      <td>Financial</td>\n",
       "      <td>Lost / stolen device</td>\n",
       "      <td>20</td>\n",
       "    </tr>\n",
       "    <tr>\n",
       "      <th>4</th>\n",
       "      <td>Citigroup</td>\n",
       "      <td>2005</td>\n",
       "      <td>3900000</td>\n",
       "      <td>Financial</td>\n",
       "      <td>Lost / stolen device</td>\n",
       "      <td>300</td>\n",
       "    </tr>\n",
       "  </tbody>\n",
       "</table>\n",
       "</div>"
      ],
      "text/plain": [
       "                      Entity  Year Records Lost Organization  \\\n",
       "1                        AOL  2004     92000000          Web   \n",
       "2  Automatic Data Processing  2005       125000    Financial   \n",
       "3            Ameritrade Inc.  2005       200000    Financial   \n",
       "4                  Citigroup  2005      3900000    Financial   \n",
       "\n",
       "         Method of Leak Sensitivity  \n",
       "1            Inside job           1  \n",
       "2         Poor security          20  \n",
       "3  Lost / stolen device          20  \n",
       "4  Lost / stolen device         300  "
      ]
     },
     "execution_count": 10,
     "metadata": {},
     "output_type": "execute_result"
    }
   ],
   "source": [
    "df['Method of Leak'] = df['Method of Leak'].str.capitalize()\n",
    "df.head(4)"
   ]
  },
  {
   "cell_type": "markdown",
   "metadata": {},
   "source": [
    "## Update Records Lost with unknown values to 5m (5 million)"
   ]
  },
  {
   "cell_type": "code",
   "execution_count": 11,
   "metadata": {
    "ExecuteTime": {
     "end_time": "2017-10-03T03:44:23.066010Z",
     "start_time": "2017-10-03T03:44:23.045445Z"
    }
   },
   "outputs": [
    {
     "data": {
      "text/html": [
       "<div>\n",
       "<style>\n",
       "    .dataframe thead tr:only-child th {\n",
       "        text-align: right;\n",
       "    }\n",
       "\n",
       "    .dataframe thead th {\n",
       "        text-align: left;\n",
       "    }\n",
       "\n",
       "    .dataframe tbody tr th {\n",
       "        vertical-align: top;\n",
       "    }\n",
       "</style>\n",
       "<table border=\"1\" class=\"dataframe\">\n",
       "  <thead>\n",
       "    <tr style=\"text-align: right;\">\n",
       "      <th></th>\n",
       "      <th>Entity</th>\n",
       "      <th>Year</th>\n",
       "      <th>Records Lost</th>\n",
       "      <th>Organization</th>\n",
       "      <th>Method of Leak</th>\n",
       "      <th>Sensitivity</th>\n",
       "    </tr>\n",
       "  </thead>\n",
       "  <tbody>\n",
       "    <tr>\n",
       "      <th>147</th>\n",
       "      <td>OVH</td>\n",
       "      <td>2013</td>\n",
       "      <td>NaN</td>\n",
       "      <td>Web</td>\n",
       "      <td>Hacked</td>\n",
       "      <td>20</td>\n",
       "    </tr>\n",
       "    <tr>\n",
       "      <th>163</th>\n",
       "      <td>UbiSoft</td>\n",
       "      <td>2013</td>\n",
       "      <td>NaN</td>\n",
       "      <td>Gaming</td>\n",
       "      <td>Hacked</td>\n",
       "      <td>20</td>\n",
       "    </tr>\n",
       "  </tbody>\n",
       "</table>\n",
       "</div>"
      ],
      "text/plain": [
       "      Entity  Year Records Lost Organization Method of Leak Sensitivity\n",
       "147      OVH  2013          NaN          Web         Hacked          20\n",
       "163  UbiSoft  2013          NaN       Gaming         Hacked          20"
      ]
     },
     "execution_count": 11,
     "metadata": {},
     "output_type": "execute_result"
    }
   ],
   "source": [
    "df[df['Records Lost'].isnull()]"
   ]
  },
  {
   "cell_type": "code",
   "execution_count": 12,
   "metadata": {
    "ExecuteTime": {
     "end_time": "2017-10-03T03:44:23.645217Z",
     "start_time": "2017-10-03T03:44:23.624895Z"
    }
   },
   "outputs": [
    {
     "data": {
      "text/html": [
       "<div>\n",
       "<style>\n",
       "    .dataframe thead tr:only-child th {\n",
       "        text-align: right;\n",
       "    }\n",
       "\n",
       "    .dataframe thead th {\n",
       "        text-align: left;\n",
       "    }\n",
       "\n",
       "    .dataframe tbody tr th {\n",
       "        vertical-align: top;\n",
       "    }\n",
       "</style>\n",
       "<table border=\"1\" class=\"dataframe\">\n",
       "  <thead>\n",
       "    <tr style=\"text-align: right;\">\n",
       "      <th></th>\n",
       "      <th>Entity</th>\n",
       "      <th>Year</th>\n",
       "      <th>Records Lost</th>\n",
       "      <th>Organization</th>\n",
       "      <th>Method of Leak</th>\n",
       "      <th>Sensitivity</th>\n",
       "    </tr>\n",
       "  </thead>\n",
       "  <tbody>\n",
       "  </tbody>\n",
       "</table>\n",
       "</div>"
      ],
      "text/plain": [
       "Empty DataFrame\n",
       "Columns: [Entity, Year, Records Lost, Organization, Method of Leak, Sensitivity]\n",
       "Index: []"
      ]
     },
     "execution_count": 12,
     "metadata": {},
     "output_type": "execute_result"
    }
   ],
   "source": [
    "df['Records Lost'][df['Records Lost'].isnull()] = 5000000   # Replace any \"null\" Records Lost values with 5 million (5000000)\n",
    "df[df['Records Lost'].isnull()]                             # Verify there are no remaining \"null\" Records Lost values"
   ]
  },
  {
   "cell_type": "markdown",
   "metadata": {},
   "source": [
    "## Ensure all Sensitivity Codes are of numeric data type"
   ]
  },
  {
   "cell_type": "code",
   "execution_count": 13,
   "metadata": {
    "ExecuteTime": {
     "end_time": "2017-10-03T03:44:24.551961Z",
     "start_time": "2017-10-03T03:44:24.544079Z"
    },
    "collapsed": true,
    "scrolled": false
   },
   "outputs": [],
   "source": [
    "df['Sensitivity'] = df['Sensitivity'].apply(pd.to_numeric)"
   ]
  },
  {
   "cell_type": "markdown",
   "metadata": {},
   "source": [
    "## Update invalid/undefined Sensitivity Code records with valid Code of:  1"
   ]
  },
  {
   "cell_type": "code",
   "execution_count": 14,
   "metadata": {
    "ExecuteTime": {
     "end_time": "2017-10-03T03:44:25.315087Z",
     "start_time": "2017-10-03T03:44:25.252504Z"
    },
    "collapsed": true
   },
   "outputs": [],
   "source": [
    "\n",
    "df.Sensitivity[~df['Sensitivity'].isin([1,20,300,4000,50000])] = 1"
   ]
  },
  {
   "cell_type": "markdown",
   "metadata": {},
   "source": [
    "## Verify all Sensitivity Codes are now valid"
   ]
  },
  {
   "cell_type": "code",
   "execution_count": 15,
   "metadata": {
    "ExecuteTime": {
     "end_time": "2017-10-03T03:44:26.075829Z",
     "start_time": "2017-10-03T03:44:26.055492Z"
    }
   },
   "outputs": [
    {
     "data": {
      "text/html": [
       "<div>\n",
       "<style>\n",
       "    .dataframe thead tr:only-child th {\n",
       "        text-align: right;\n",
       "    }\n",
       "\n",
       "    .dataframe thead th {\n",
       "        text-align: left;\n",
       "    }\n",
       "\n",
       "    .dataframe tbody tr th {\n",
       "        vertical-align: top;\n",
       "    }\n",
       "</style>\n",
       "<table border=\"1\" class=\"dataframe\">\n",
       "  <thead>\n",
       "    <tr style=\"text-align: right;\">\n",
       "      <th></th>\n",
       "      <th>Entity</th>\n",
       "      <th>Year</th>\n",
       "      <th>Records Lost</th>\n",
       "      <th>Organization</th>\n",
       "      <th>Method of Leak</th>\n",
       "      <th>Sensitivity</th>\n",
       "    </tr>\n",
       "  </thead>\n",
       "  <tbody>\n",
       "  </tbody>\n",
       "</table>\n",
       "</div>"
      ],
      "text/plain": [
       "Empty DataFrame\n",
       "Columns: [Entity, Year, Records Lost, Organization, Method of Leak, Sensitivity]\n",
       "Index: []"
      ]
     },
     "execution_count": 15,
     "metadata": {},
     "output_type": "execute_result"
    }
   ],
   "source": [
    "df[~df['Sensitivity'].isin([1,20,300,4000,50000])]"
   ]
  },
  {
   "cell_type": "code",
   "execution_count": 16,
   "metadata": {
    "ExecuteTime": {
     "end_time": "2017-10-03T03:44:26.531135Z",
     "start_time": "2017-10-03T03:44:26.513675Z"
    }
   },
   "outputs": [
    {
     "data": {
      "text/plain": [
       "Entity            South Carolina State Dept. of Revenue\n",
       "Year                                               2012\n",
       "Records Lost                                    3600000\n",
       "Organization                                 Government\n",
       "Method of Leak                                   Hacked\n",
       "Sensitivity                                           1\n",
       "Name: 134, dtype: object"
      ]
     },
     "execution_count": 16,
     "metadata": {},
     "output_type": "execute_result"
    }
   ],
   "source": [
    "df.iloc[133]"
   ]
  },
  {
   "cell_type": "markdown",
   "metadata": {},
   "source": [
    "## Add new column containing text string corresponding to Sensitivity Code\n",
    "1. Just email address/Online information 20 SSN/Personal details 300 Credit card information 4000 Email password/Health records 50000 Full bank account details"
   ]
  },
  {
   "cell_type": "code",
   "execution_count": 17,
   "metadata": {
    "ExecuteTime": {
     "end_time": "2017-10-03T03:44:27.623135Z",
     "start_time": "2017-10-03T03:44:27.557740Z"
    }
   },
   "outputs": [
    {
     "data": {
      "text/html": [
       "<div>\n",
       "<style>\n",
       "    .dataframe thead tr:only-child th {\n",
       "        text-align: right;\n",
       "    }\n",
       "\n",
       "    .dataframe thead th {\n",
       "        text-align: left;\n",
       "    }\n",
       "\n",
       "    .dataframe tbody tr th {\n",
       "        vertical-align: top;\n",
       "    }\n",
       "</style>\n",
       "<table border=\"1\" class=\"dataframe\">\n",
       "  <thead>\n",
       "    <tr style=\"text-align: right;\">\n",
       "      <th></th>\n",
       "      <th>Entity</th>\n",
       "      <th>Year</th>\n",
       "      <th>Records Lost</th>\n",
       "      <th>Organization</th>\n",
       "      <th>Method of Leak</th>\n",
       "      <th>Sensitivity</th>\n",
       "      <th>Sensitivity of Information</th>\n",
       "    </tr>\n",
       "  </thead>\n",
       "  <tbody>\n",
       "    <tr>\n",
       "      <th>1</th>\n",
       "      <td>AOL</td>\n",
       "      <td>2004</td>\n",
       "      <td>92000000</td>\n",
       "      <td>Web</td>\n",
       "      <td>Inside job</td>\n",
       "      <td>1</td>\n",
       "      <td>Email Address/Online Information</td>\n",
       "    </tr>\n",
       "    <tr>\n",
       "      <th>2</th>\n",
       "      <td>Automatic Data Processing</td>\n",
       "      <td>2005</td>\n",
       "      <td>125000</td>\n",
       "      <td>Financial</td>\n",
       "      <td>Poor security</td>\n",
       "      <td>20</td>\n",
       "      <td>SSN/Personal Details</td>\n",
       "    </tr>\n",
       "    <tr>\n",
       "      <th>3</th>\n",
       "      <td>Ameritrade Inc.</td>\n",
       "      <td>2005</td>\n",
       "      <td>200000</td>\n",
       "      <td>Financial</td>\n",
       "      <td>Lost / stolen device</td>\n",
       "      <td>20</td>\n",
       "      <td>SSN/Personal Details</td>\n",
       "    </tr>\n",
       "    <tr>\n",
       "      <th>4</th>\n",
       "      <td>Citigroup</td>\n",
       "      <td>2005</td>\n",
       "      <td>3900000</td>\n",
       "      <td>Financial</td>\n",
       "      <td>Lost / stolen device</td>\n",
       "      <td>300</td>\n",
       "      <td>Credit Card Information</td>\n",
       "    </tr>\n",
       "  </tbody>\n",
       "</table>\n",
       "</div>"
      ],
      "text/plain": [
       "                      Entity  Year Records Lost Organization  \\\n",
       "1                        AOL  2004     92000000          Web   \n",
       "2  Automatic Data Processing  2005       125000    Financial   \n",
       "3            Ameritrade Inc.  2005       200000    Financial   \n",
       "4                  Citigroup  2005      3900000    Financial   \n",
       "\n",
       "         Method of Leak  Sensitivity        Sensitivity of Information  \n",
       "1            Inside job            1  Email Address/Online Information  \n",
       "2         Poor security           20              SSN/Personal Details  \n",
       "3  Lost / stolen device           20              SSN/Personal Details  \n",
       "4  Lost / stolen device          300           Credit Card Information  "
      ]
     },
     "execution_count": 17,
     "metadata": {},
     "output_type": "execute_result"
    }
   ],
   "source": [
    "def getSensitivityText(x):\n",
    "    if (x == 1):\n",
    "        return 'Email Address/Online Information'\n",
    "    elif (x == 20):\n",
    "        return 'SSN/Personal Details'\n",
    "    elif (x == 300):\n",
    "        return 'Credit Card Information'\n",
    "    elif (x == 4000):\n",
    "        return 'Email Password/Health Records'\n",
    "    elif (x == 50000):\n",
    "        return 'Full Bank Account Details'\n",
    "    else:\n",
    "        return 'Other'\n",
    "df2 = df.copy()\n",
    "df2['Sensitivity of Information'] = df.Sensitivity.apply(getSensitivityText)\n",
    "df2.head(4)"
   ]
  },
  {
   "cell_type": "markdown",
   "metadata": {},
   "source": [
    "## Import the Stock Ticker lookup file"
   ]
  },
  {
   "cell_type": "markdown",
   "metadata": {},
   "source": [
    "## Remove miscellaneous punctuation marks and format values for URL search"
   ]
  },
  {
   "cell_type": "code",
   "execution_count": 18,
   "metadata": {
    "ExecuteTime": {
     "end_time": "2017-10-03T03:44:29.892278Z",
     "start_time": "2017-10-03T03:44:29.886916Z"
    },
    "collapsed": true
   },
   "outputs": [],
   "source": [
    "urlString = df2['Entity']"
   ]
  },
  {
   "cell_type": "code",
   "execution_count": 19,
   "metadata": {
    "ExecuteTime": {
     "end_time": "2017-10-03T03:44:31.158056Z",
     "start_time": "2017-10-03T03:44:31.115968Z"
    }
   },
   "outputs": [
    {
     "data": {
      "text/plain": [
       "1                              AOL\n",
       "2    Automatic%20Data%20Processing\n",
       "3                 Ameritrade%20Inc\n",
       "4                        Citigroup\n",
       "Name: Entity, dtype: object"
      ]
     },
     "execution_count": 19,
     "metadata": {},
     "output_type": "execute_result"
    }
   ],
   "source": [
    "def formatUrlString(x):\n",
    "    punctuations = '''!()-[]{};:'\"''\\,<>./?@#$%^&*_~'''\n",
    "    cleanEntity = ''\n",
    "    for singleChar in x:\n",
    "        singleChar = singleChar.replace(u'\\u2019', '')        # Additional filtering for unwanted Unicode apostrophes\n",
    "        if singleChar not in punctuations:\n",
    "            cleanEntity = (cleanEntity + singleChar)\n",
    "    return cleanEntity.strip().replace(' ', '%20')            # Format URL Query String by inserting code for blank spaces\n",
    "urlString = urlString.apply(formatUrlString)\n",
    "urlString.head(4)"
   ]
  },
  {
   "cell_type": "code",
   "execution_count": 20,
   "metadata": {
    "ExecuteTime": {
     "end_time": "2017-10-03T03:44:32.705785Z",
     "start_time": "2017-10-03T03:44:32.701393Z"
    },
    "collapsed": true
   },
   "outputs": [],
   "source": [
    "df2['Date of Breach'] = np.nan"
   ]
  },
  {
   "cell_type": "code",
   "execution_count": 21,
   "metadata": {
    "ExecuteTime": {
     "end_time": "2017-10-03T03:44:36.068234Z",
     "start_time": "2017-10-03T03:44:36.049431Z"
    }
   },
   "outputs": [
    {
     "data": {
      "text/html": [
       "<div>\n",
       "<style>\n",
       "    .dataframe thead tr:only-child th {\n",
       "        text-align: right;\n",
       "    }\n",
       "\n",
       "    .dataframe thead th {\n",
       "        text-align: left;\n",
       "    }\n",
       "\n",
       "    .dataframe tbody tr th {\n",
       "        vertical-align: top;\n",
       "    }\n",
       "</style>\n",
       "<table border=\"1\" class=\"dataframe\">\n",
       "  <thead>\n",
       "    <tr style=\"text-align: right;\">\n",
       "      <th></th>\n",
       "      <th>Entity</th>\n",
       "      <th>Year</th>\n",
       "      <th>Records Lost</th>\n",
       "      <th>Organization</th>\n",
       "      <th>Method of Leak</th>\n",
       "      <th>Sensitivity</th>\n",
       "      <th>Sensitivity of Information</th>\n",
       "      <th>Date of Breach</th>\n",
       "    </tr>\n",
       "  </thead>\n",
       "  <tbody>\n",
       "    <tr>\n",
       "      <th>1</th>\n",
       "      <td>AOL</td>\n",
       "      <td>2004</td>\n",
       "      <td>92000000</td>\n",
       "      <td>Web</td>\n",
       "      <td>Inside job</td>\n",
       "      <td>1</td>\n",
       "      <td>Email Address/Online Information</td>\n",
       "      <td>NaN</td>\n",
       "    </tr>\n",
       "    <tr>\n",
       "      <th>2</th>\n",
       "      <td>Automatic Data Processing</td>\n",
       "      <td>2005</td>\n",
       "      <td>125000</td>\n",
       "      <td>Financial</td>\n",
       "      <td>Poor security</td>\n",
       "      <td>20</td>\n",
       "      <td>SSN/Personal Details</td>\n",
       "      <td>NaN</td>\n",
       "    </tr>\n",
       "    <tr>\n",
       "      <th>3</th>\n",
       "      <td>Ameritrade Inc.</td>\n",
       "      <td>2005</td>\n",
       "      <td>200000</td>\n",
       "      <td>Financial</td>\n",
       "      <td>Lost / stolen device</td>\n",
       "      <td>20</td>\n",
       "      <td>SSN/Personal Details</td>\n",
       "      <td>NaN</td>\n",
       "    </tr>\n",
       "    <tr>\n",
       "      <th>4</th>\n",
       "      <td>Citigroup</td>\n",
       "      <td>2005</td>\n",
       "      <td>3900000</td>\n",
       "      <td>Financial</td>\n",
       "      <td>Lost / stolen device</td>\n",
       "      <td>300</td>\n",
       "      <td>Credit Card Information</td>\n",
       "      <td>NaN</td>\n",
       "    </tr>\n",
       "  </tbody>\n",
       "</table>\n",
       "</div>"
      ],
      "text/plain": [
       "                      Entity  Year Records Lost Organization  \\\n",
       "1                        AOL  2004     92000000          Web   \n",
       "2  Automatic Data Processing  2005       125000    Financial   \n",
       "3            Ameritrade Inc.  2005       200000    Financial   \n",
       "4                  Citigroup  2005      3900000    Financial   \n",
       "\n",
       "         Method of Leak  Sensitivity        Sensitivity of Information  \\\n",
       "1            Inside job            1  Email Address/Online Information   \n",
       "2         Poor security           20              SSN/Personal Details   \n",
       "3  Lost / stolen device           20              SSN/Personal Details   \n",
       "4  Lost / stolen device          300           Credit Card Information   \n",
       "\n",
       "   Date of Breach  \n",
       "1             NaN  \n",
       "2             NaN  \n",
       "3             NaN  \n",
       "4             NaN  "
      ]
     },
     "execution_count": 21,
     "metadata": {},
     "output_type": "execute_result"
    }
   ],
   "source": [
    "df2.head(4)"
   ]
  },
  {
   "cell_type": "markdown",
   "metadata": {
    "collapsed": true
   },
   "source": [
    "## Obtain top 20 Entities with most Records Lost in a Data Breach "
   ]
  },
  {
   "cell_type": "code",
   "execution_count": 24,
   "metadata": {},
   "outputs": [
    {
     "data": {
      "text/html": [
       "<div>\n",
       "<style>\n",
       "    .dataframe thead tr:only-child th {\n",
       "        text-align: right;\n",
       "    }\n",
       "\n",
       "    .dataframe thead th {\n",
       "        text-align: left;\n",
       "    }\n",
       "\n",
       "    .dataframe tbody tr th {\n",
       "        vertical-align: top;\n",
       "    }\n",
       "</style>\n",
       "<table border=\"1\" class=\"dataframe\">\n",
       "  <thead>\n",
       "    <tr style=\"text-align: right;\">\n",
       "      <th></th>\n",
       "      <th>Entity</th>\n",
       "      <th>Year</th>\n",
       "      <th>Records Lost</th>\n",
       "      <th>Organization</th>\n",
       "      <th>Method of Leak</th>\n",
       "      <th>Sensitivity</th>\n",
       "      <th>Sensitivity of Information</th>\n",
       "      <th>Date of Breach</th>\n",
       "    </tr>\n",
       "  </thead>\n",
       "  <tbody>\n",
       "    <tr>\n",
       "      <th>246</th>\n",
       "      <td>River City Media</td>\n",
       "      <td>2017</td>\n",
       "      <td>1370000000</td>\n",
       "      <td>Web</td>\n",
       "      <td>Accidentally published</td>\n",
       "      <td>20</td>\n",
       "      <td>SSN/Personal Details</td>\n",
       "      <td>NaN</td>\n",
       "    </tr>\n",
       "    <tr>\n",
       "      <th>164</th>\n",
       "      <td>Yahoo</td>\n",
       "      <td>2013</td>\n",
       "      <td>1000000000</td>\n",
       "      <td>Web</td>\n",
       "      <td>Hacked</td>\n",
       "      <td>20</td>\n",
       "      <td>SSN/Personal Details</td>\n",
       "      <td>NaN</td>\n",
       "    </tr>\n",
       "    <tr>\n",
       "      <th>253</th>\n",
       "      <td>Spambot</td>\n",
       "      <td>2018</td>\n",
       "      <td>711000000</td>\n",
       "      <td>Web</td>\n",
       "      <td>Poor security</td>\n",
       "      <td>4000</td>\n",
       "      <td>Email Password/Health Records</td>\n",
       "      <td>NaN</td>\n",
       "    </tr>\n",
       "    <tr>\n",
       "      <th>187</th>\n",
       "      <td>Yahoo</td>\n",
       "      <td>2014</td>\n",
       "      <td>500000000</td>\n",
       "      <td>Web</td>\n",
       "      <td>Hacked</td>\n",
       "      <td>20</td>\n",
       "      <td>SSN/Personal Details</td>\n",
       "      <td>NaN</td>\n",
       "    </tr>\n",
       "    <tr>\n",
       "      <th>245</th>\n",
       "      <td>Friend Finder Network</td>\n",
       "      <td>2017</td>\n",
       "      <td>412000000</td>\n",
       "      <td>Web</td>\n",
       "      <td>Hacked</td>\n",
       "      <td>1</td>\n",
       "      <td>Email Address/Online Information</td>\n",
       "      <td>NaN</td>\n",
       "    </tr>\n",
       "    <tr>\n",
       "      <th>132</th>\n",
       "      <td>Court Ventures</td>\n",
       "      <td>2012</td>\n",
       "      <td>200000000</td>\n",
       "      <td>Financial</td>\n",
       "      <td>Inside job</td>\n",
       "      <td>20</td>\n",
       "      <td>SSN/Personal Details</td>\n",
       "      <td>NaN</td>\n",
       "    </tr>\n",
       "    <tr>\n",
       "      <th>209</th>\n",
       "      <td>Deep Root Analytics</td>\n",
       "      <td>2015</td>\n",
       "      <td>198000000</td>\n",
       "      <td>Web</td>\n",
       "      <td>Poor security</td>\n",
       "      <td>20</td>\n",
       "      <td>SSN/Personal Details</td>\n",
       "      <td>NaN</td>\n",
       "    </tr>\n",
       "    <tr>\n",
       "      <th>221</th>\n",
       "      <td>MySpace</td>\n",
       "      <td>2016</td>\n",
       "      <td>164000000</td>\n",
       "      <td>Web</td>\n",
       "      <td>Hacked</td>\n",
       "      <td>1</td>\n",
       "      <td>Email Address/Online Information</td>\n",
       "      <td>NaN</td>\n",
       "    </tr>\n",
       "    <tr>\n",
       "      <th>131</th>\n",
       "      <td>Massive American business hack</td>\n",
       "      <td>2012</td>\n",
       "      <td>160000000</td>\n",
       "      <td>Financial</td>\n",
       "      <td>Hacked</td>\n",
       "      <td>50000</td>\n",
       "      <td>Full Bank Account Details</td>\n",
       "      <td>NaN</td>\n",
       "    </tr>\n",
       "    <tr>\n",
       "      <th>186</th>\n",
       "      <td>Ebay</td>\n",
       "      <td>2014</td>\n",
       "      <td>145000000</td>\n",
       "      <td>Web</td>\n",
       "      <td>Hacked</td>\n",
       "      <td>1</td>\n",
       "      <td>Email Address/Online Information</td>\n",
       "      <td>NaN</td>\n",
       "    </tr>\n",
       "    <tr>\n",
       "      <th>252</th>\n",
       "      <td>Equifax</td>\n",
       "      <td>2018</td>\n",
       "      <td>143000000</td>\n",
       "      <td>Financial</td>\n",
       "      <td>Hacked</td>\n",
       "      <td>50000</td>\n",
       "      <td>Full Bank Account Details</td>\n",
       "      <td>NaN</td>\n",
       "    </tr>\n",
       "    <tr>\n",
       "      <th>54</th>\n",
       "      <td>Heartland</td>\n",
       "      <td>2009</td>\n",
       "      <td>130000000</td>\n",
       "      <td>Financial</td>\n",
       "      <td>Hacked</td>\n",
       "      <td>300</td>\n",
       "      <td>Credit Card Information</td>\n",
       "      <td>NaN</td>\n",
       "    </tr>\n",
       "    <tr>\n",
       "      <th>133</th>\n",
       "      <td>LinkedIn</td>\n",
       "      <td>2012</td>\n",
       "      <td>117000000</td>\n",
       "      <td>Web</td>\n",
       "      <td>Hacked</td>\n",
       "      <td>1</td>\n",
       "      <td>Email Address/Online Information</td>\n",
       "      <td>NaN</td>\n",
       "    </tr>\n",
       "    <tr>\n",
       "      <th>218</th>\n",
       "      <td>VK</td>\n",
       "      <td>2016</td>\n",
       "      <td>100544934</td>\n",
       "      <td>Web</td>\n",
       "      <td>Hacked</td>\n",
       "      <td>4000</td>\n",
       "      <td>Email Password/Health Records</td>\n",
       "      <td>NaN</td>\n",
       "    </tr>\n",
       "    <tr>\n",
       "      <th>24</th>\n",
       "      <td>TK / TJ Maxx</td>\n",
       "      <td>2007</td>\n",
       "      <td>94000000</td>\n",
       "      <td>Retail</td>\n",
       "      <td>Hacked</td>\n",
       "      <td>300</td>\n",
       "      <td>Credit Card Information</td>\n",
       "      <td>NaN</td>\n",
       "    </tr>\n",
       "    <tr>\n",
       "      <th>1</th>\n",
       "      <td>AOL</td>\n",
       "      <td>2004</td>\n",
       "      <td>92000000</td>\n",
       "      <td>Web</td>\n",
       "      <td>Inside job</td>\n",
       "      <td>1</td>\n",
       "      <td>Email Address/Online Information</td>\n",
       "      <td>NaN</td>\n",
       "    </tr>\n",
       "    <tr>\n",
       "      <th>244</th>\n",
       "      <td>Dailymotion</td>\n",
       "      <td>2017</td>\n",
       "      <td>85200000</td>\n",
       "      <td>Web</td>\n",
       "      <td>Hacked</td>\n",
       "      <td>1</td>\n",
       "      <td>Email Address/Online Information</td>\n",
       "      <td>NaN</td>\n",
       "    </tr>\n",
       "    <tr>\n",
       "      <th>217</th>\n",
       "      <td>Anthem</td>\n",
       "      <td>2016</td>\n",
       "      <td>80000000</td>\n",
       "      <td>Healthcare</td>\n",
       "      <td>Hacked</td>\n",
       "      <td>20</td>\n",
       "      <td>SSN/Personal Details</td>\n",
       "      <td>NaN</td>\n",
       "    </tr>\n",
       "    <tr>\n",
       "      <th>109</th>\n",
       "      <td>Sony PSN</td>\n",
       "      <td>2011</td>\n",
       "      <td>77000000</td>\n",
       "      <td>Gaming</td>\n",
       "      <td>Hacked</td>\n",
       "      <td>1</td>\n",
       "      <td>Email Address/Online Information</td>\n",
       "      <td>NaN</td>\n",
       "    </tr>\n",
       "    <tr>\n",
       "      <th>185</th>\n",
       "      <td>JP Morgan Chase</td>\n",
       "      <td>2014</td>\n",
       "      <td>76000000</td>\n",
       "      <td>Financial</td>\n",
       "      <td>Hacked</td>\n",
       "      <td>300</td>\n",
       "      <td>Credit Card Information</td>\n",
       "      <td>NaN</td>\n",
       "    </tr>\n",
       "  </tbody>\n",
       "</table>\n",
       "</div>"
      ],
      "text/plain": [
       "                             Entity  Year Records Lost Organization  \\\n",
       "246                River City Media  2017   1370000000          Web   \n",
       "164                           Yahoo  2013   1000000000          Web   \n",
       "253                         Spambot  2018    711000000          Web   \n",
       "187                           Yahoo  2014    500000000          Web   \n",
       "245           Friend Finder Network  2017    412000000          Web   \n",
       "132                  Court Ventures  2012    200000000    Financial   \n",
       "209             Deep Root Analytics  2015    198000000          Web   \n",
       "221                         MySpace  2016    164000000          Web   \n",
       "131  Massive American business hack  2012    160000000    Financial   \n",
       "186                            Ebay  2014    145000000          Web   \n",
       "252                         Equifax  2018    143000000    Financial   \n",
       "54                        Heartland  2009    130000000    Financial   \n",
       "133                        LinkedIn  2012    117000000          Web   \n",
       "218                              VK  2016    100544934          Web   \n",
       "24                     TK / TJ Maxx  2007     94000000       Retail   \n",
       "1                               AOL  2004     92000000          Web   \n",
       "244                     Dailymotion  2017     85200000          Web   \n",
       "217                         Anthem   2016     80000000   Healthcare   \n",
       "109                        Sony PSN  2011     77000000       Gaming   \n",
       "185                 JP Morgan Chase  2014     76000000    Financial   \n",
       "\n",
       "             Method of Leak  Sensitivity        Sensitivity of Information  \\\n",
       "246  Accidentally published           20              SSN/Personal Details   \n",
       "164                  Hacked           20              SSN/Personal Details   \n",
       "253           Poor security         4000     Email Password/Health Records   \n",
       "187                  Hacked           20              SSN/Personal Details   \n",
       "245                  Hacked            1  Email Address/Online Information   \n",
       "132              Inside job           20              SSN/Personal Details   \n",
       "209           Poor security           20              SSN/Personal Details   \n",
       "221                  Hacked            1  Email Address/Online Information   \n",
       "131                  Hacked        50000         Full Bank Account Details   \n",
       "186                  Hacked            1  Email Address/Online Information   \n",
       "252                  Hacked        50000         Full Bank Account Details   \n",
       "54                   Hacked          300           Credit Card Information   \n",
       "133                  Hacked            1  Email Address/Online Information   \n",
       "218                  Hacked         4000     Email Password/Health Records   \n",
       "24                   Hacked          300           Credit Card Information   \n",
       "1                Inside job            1  Email Address/Online Information   \n",
       "244                  Hacked            1  Email Address/Online Information   \n",
       "217                  Hacked           20              SSN/Personal Details   \n",
       "109                  Hacked            1  Email Address/Online Information   \n",
       "185                  Hacked          300           Credit Card Information   \n",
       "\n",
       "     Date of Breach  \n",
       "246             NaN  \n",
       "164             NaN  \n",
       "253             NaN  \n",
       "187             NaN  \n",
       "245             NaN  \n",
       "132             NaN  \n",
       "209             NaN  \n",
       "221             NaN  \n",
       "131             NaN  \n",
       "186             NaN  \n",
       "252             NaN  \n",
       "54              NaN  \n",
       "133             NaN  \n",
       "218             NaN  \n",
       "24              NaN  \n",
       "1               NaN  \n",
       "244             NaN  \n",
       "217             NaN  \n",
       "109             NaN  \n",
       "185             NaN  "
      ]
     },
     "execution_count": 24,
     "metadata": {},
     "output_type": "execute_result"
    }
   ],
   "source": [
    "df2.sort_values(by = 'Records Lost', ascending = False).head(20)"
   ]
  },
  {
   "cell_type": "code",
   "execution_count": 25,
   "metadata": {},
   "outputs": [
    {
     "data": {
      "text/html": [
       "<div>\n",
       "<style>\n",
       "    .dataframe thead tr:only-child th {\n",
       "        text-align: right;\n",
       "    }\n",
       "\n",
       "    .dataframe thead th {\n",
       "        text-align: left;\n",
       "    }\n",
       "\n",
       "    .dataframe tbody tr th {\n",
       "        vertical-align: top;\n",
       "    }\n",
       "</style>\n",
       "<table border=\"1\" class=\"dataframe\">\n",
       "  <thead>\n",
       "    <tr style=\"text-align: right;\">\n",
       "      <th></th>\n",
       "      <th>Entity</th>\n",
       "      <th>URL String</th>\n",
       "      <th>Tickers</th>\n",
       "    </tr>\n",
       "  </thead>\n",
       "  <tbody>\n",
       "    <tr>\n",
       "      <th>1</th>\n",
       "      <td>AOL</td>\n",
       "      <td>AOL</td>\n",
       "      <td>NaN</td>\n",
       "    </tr>\n",
       "    <tr>\n",
       "      <th>2</th>\n",
       "      <td>Automatic Data Processing</td>\n",
       "      <td>Automatic%20Data%20Processing</td>\n",
       "      <td>NaN</td>\n",
       "    </tr>\n",
       "    <tr>\n",
       "      <th>3</th>\n",
       "      <td>Ameritrade Inc.</td>\n",
       "      <td>Ameritrade%20Inc</td>\n",
       "      <td>NaN</td>\n",
       "    </tr>\n",
       "    <tr>\n",
       "      <th>4</th>\n",
       "      <td>Citigroup</td>\n",
       "      <td>Citigroup</td>\n",
       "      <td>NaN</td>\n",
       "    </tr>\n",
       "  </tbody>\n",
       "</table>\n",
       "</div>"
      ],
      "text/plain": [
       "                      Entity                     URL String  Tickers\n",
       "1                        AOL                            AOL      NaN\n",
       "2  Automatic Data Processing  Automatic%20Data%20Processing      NaN\n",
       "3            Ameritrade Inc.               Ameritrade%20Inc      NaN\n",
       "4                  Citigroup                      Citigroup      NaN"
      ]
     },
     "execution_count": 25,
     "metadata": {},
     "output_type": "execute_result"
    }
   ],
   "source": [
    "dfStocks = pd.DataFrame(df2['Entity'])\n",
    "dfStocks['URL String'] = urlString\n",
    "dfStocks['Tickers'] = np.nan\n",
    "dfStocks.head(4)"
   ]
  },
  {
   "cell_type": "markdown",
   "metadata": {},
   "source": [
    "## Write Dataframe to \".csv\" file for import into Tableau"
   ]
  },
  {
   "cell_type": "code",
   "execution_count": 26,
   "metadata": {
    "ExecuteTime": {
     "end_time": "2017-10-01T18:08:46.141588Z",
     "start_time": "2017-10-01T18:08:46.113504Z"
    },
    "collapsed": true
   },
   "outputs": [],
   "source": [
    "df2.to_csv('DataBreachLab3.csv')"
   ]
  },
  {
   "cell_type": "code",
   "execution_count": null,
   "metadata": {
    "collapsed": true
   },
   "outputs": [],
   "source": []
  }
 ],
 "metadata": {
  "kernelspec": {
   "display_name": "Python 3",
   "language": "python",
   "name": "python3"
  },
  "language_info": {
   "codemirror_mode": {
    "name": "ipython",
    "version": 3
   },
   "file_extension": ".py",
   "mimetype": "text/x-python",
   "name": "python",
   "nbconvert_exporter": "python",
   "pygments_lexer": "ipython3",
   "version": "3.6.2"
  },
  "toc": {
   "nav_menu": {},
   "number_sections": true,
   "sideBar": true,
   "skip_h1_title": false,
   "toc_cell": false,
   "toc_position": {},
   "toc_section_display": "block",
   "toc_window_display": false
  },
  "varInspector": {
   "cols": {
    "lenName": 16,
    "lenType": 16,
    "lenVar": 40
   },
   "kernels_config": {
    "python": {
     "delete_cmd_postfix": "",
     "delete_cmd_prefix": "del ",
     "library": "var_list.py",
     "varRefreshCmd": "print(var_dic_list())"
    },
    "r": {
     "delete_cmd_postfix": ") ",
     "delete_cmd_prefix": "rm(",
     "library": "var_list.r",
     "varRefreshCmd": "cat(var_dic_list()) "
    }
   },
   "types_to_exclude": [
    "module",
    "function",
    "builtin_function_or_method",
    "instance",
    "_Feature"
   ],
   "window_display": false
  }
 },
 "nbformat": 4,
 "nbformat_minor": 2
}
